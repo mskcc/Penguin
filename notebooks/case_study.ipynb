{
 "cells": [
  {
   "cell_type": "markdown",
   "metadata": {},
   "source": [
    "This analysis notebook is for exploring one gene in one cancer type (to reduce possible biases)"
   ]
  },
  {
   "cell_type": "code",
   "execution_count": 1,
   "metadata": {},
   "outputs": [],
   "source": [
    "import pandas as pd\n",
    "import matplotlib.pyplot as plt \n",
    "import numpy as np"
   ]
  },
  {
   "cell_type": "markdown",
   "metadata": {},
   "source": [
    "### Settings"
   ]
  },
  {
   "cell_type": "code",
   "execution_count": 2,
   "metadata": {},
   "outputs": [],
   "source": [
    "geneToStudy = 'MET'\n",
    "cancerTypeToStudy = 'Non-Small Cell Lung Cancer'\n",
    "# cancerType or cancerTypeDetailed\n",
    "analysis_type = 'cancerType'\n",
    "# Use facets called amp (true/false), use false if you do not have the file (external to the pipeline)\n",
    "use_facets_amp = False\n",
    "use_facets = False"
   ]
  },
  {
   "cell_type": "code",
   "execution_count": 3,
   "metadata": {},
   "outputs": [],
   "source": [
    "config = \"../global_config_bash_3.rc\""
   ]
  },
  {
   "cell_type": "code",
   "execution_count": 4,
   "metadata": {},
   "outputs": [],
   "source": [
    "with open(config, 'r') as f :\n",
    "    bash_script_content = f.read()\n",
    "    lines = bash_script_content.splitlines()\n",
    "paths = {}\n",
    "for line in lines:\n",
    "    line = line.strip()\n",
    "    if line and '=' in line:\n",
    "        key, value = line.split('=', 1)\n",
    "        key = key.strip()\n",
    "        value = value.strip()\n",
    "        # Handle variable references\n",
    "        while '${' in value:\n",
    "            start_index = value.find('${')\n",
    "            end_index = value.find('}', start_index)\n",
    "            if start_index != -1 and end_index != -1:\n",
    "                variable_name = value[start_index + 2:end_index]\n",
    "                if variable_name in paths:\n",
    "                    value = value[:start_index] + paths[variable_name] + value[end_index + 1:]\n",
    "                else:\n",
    "                    break  # Stop if variable reference not found\n",
    "        paths[key] = value.strip('\"\\'')  # Remove surrounding quotes if any"
   ]
  },
  {
   "cell_type": "code",
   "execution_count": 5,
   "metadata": {},
   "outputs": [],
   "source": [
    "# Merged ECHO results\n",
    "echo = pd.read_csv(paths['mergedOutputDirectory'] + '/merged.ECHO_results.csv')\n",
    "# Merged FACETS cbioportal file\n",
    "manifest = pd.read_csv(paths['mergedOutputDirectory'] + '/facets_cbioportal_merged_full.tsv', sep = '\\t')\n",
    "\n",
    "if use_facets_amp :\n",
    "    # facets file per sample. If this file has not been created (Currently not included in this pipeline), set use_facets_amp to False, and don't run the FACETS analysis\n",
    "    facets = pd.read_csv(\"../mycn_facets_merged.tsv\", sep = '\\t', index_col = False)"
   ]
  },
  {
   "cell_type": "markdown",
   "metadata": {},
   "source": [
    "### Setup"
   ]
  },
  {
   "cell_type": "code",
   "execution_count": 6,
   "metadata": {},
   "outputs": [],
   "source": [
    "echo['patientId'] = echo['sample_id'].apply(lambda x: x.split('-', 2)[0] + '-' + x.split('-', 2)[1])\n",
    "echo['tumorSampleId'] = echo['sample_id'].apply(lambda x: '-'.join(x.split('-', 4)[:4]))\n",
    "echo['normalSampleId'] = echo.apply(lambda row: row['sample_id'][len(row['tumorSampleId']):].lstrip('-'), axis = 1)\n",
    "echo.drop('sample_id', axis = 1, inplace = True)\n",
    "echo = echo[['patientId', 'tumorSampleId', 'normalSampleId', 'chromosome', 'gene', 'log2', 'cn','ecDNA_prob', 'ecDNA_status']]\n",
    "\n",
    "manifest['sampleId'] = manifest['ID']\n",
    "manifest = manifest[['sampleId', analysis_type, 'osStatus', 'osMonths']]\n",
    "echo = pd.merge(echo, manifest, left_on = 'tumorSampleId', right_on = 'sampleId', how = 'left')"
   ]
  },
  {
   "cell_type": "code",
   "execution_count": 7,
   "metadata": {},
   "outputs": [],
   "source": [
    "# Trim dataframe\n",
    "echo_ctype = echo[echo[analysis_type] == cancerTypeToStudy]"
   ]
  },
  {
   "cell_type": "code",
   "execution_count": 8,
   "metadata": {},
   "outputs": [],
   "source": [
    "# Add facets amp information if necessary\n",
    "if use_facets_amp : \n",
    "    facets['patientId'] = facets['sample'].apply(lambda x: x.split('-', 2)[0] + '-' + x.split('-', 2)[1])\n",
    "\n",
    "    facets_gene_amps = {key: \"INDETERMINATE\" for key in facets['patientId'].unique()}\n",
    "    for i, row in facets.iterrows() :\n",
    "        if row['gene'] == geneToStudy :\n",
    "            facets_gene_amps[row['patientId']] = row['cn_state']\n",
    "\n",
    "    echo_ctype['facets_amp'] = 'INDETERMINATE'\n",
    "\n",
    "    for i, row in echo_ctype.iterrows() :\n",
    "        echo_ctype.loc[i, 'facets_amp'] = facets_gene_amps[row['patientId']]"
   ]
  },
  {
   "cell_type": "code",
   "execution_count": 9,
   "metadata": {},
   "outputs": [],
   "source": [
    "# create a dataframe just for the one gene in the one cancer type\n",
    "specific_gene_ctype = pd.DataFrame({'patientId': echo_ctype['patientId'].unique()})\n",
    "specific_gene_ctype['ecDNA_status'] = False\n",
    "specific_gene_ctype['osStatus'] = \"\"\n",
    "specific_gene_ctype['osMonths'] = np.nan\n",
    "specific_gene_ctype['amp'] = False\n",
    "specific_gene_ctype['cn_echo'] = 2\n",
    "\n",
    "import math\n",
    "\n",
    "# connect patient IDs to indexes\n",
    "gene_dict = {}\n",
    "for i, row in specific_gene_ctype.iterrows() :\n",
    "    gene_dict[row['patientId']] = i\n",
    "\n",
    "# Fill in dataframe\n",
    "for i, row in echo_ctype.iterrows() :\n",
    "    specific_gene_ctype.loc[gene_dict[row['patientId']], 'osStatus'] = row['osStatus']\n",
    "    specific_gene_ctype.loc[gene_dict[row['patientId']], 'osMonths'] = row['osMonths']\n",
    "    if row['gene'] == geneToStudy :\n",
    "        specific_gene_ctype.loc[gene_dict[row['patientId']], 'cn_echo'] = row['cn']\n",
    "        specific_gene_ctype.loc[gene_dict[row['patientId']], 'ecDNA_status'] = (row['ecDNA_status'] == 'ecDNA')\n",
    "        if use_facets_amp :\n",
    "            if not isinstance(row['facets_amp'], float) :\n",
    "                if ('AMP' in row['facets_amp']) or ('GAIN' in row['facets_amp']) :\n",
    "                    amp_status = True\n",
    "            specific_gene_ctype.loc[gene_dict[row['patientId']], 'amp'] = amp_status\n",
    "        else :\n",
    "            specific_gene_ctype.loc[gene_dict[row['patientId']], 'amp'] = True"
   ]
  },
  {
   "cell_type": "code",
   "execution_count": 10,
   "metadata": {},
   "outputs": [],
   "source": [
    "# Create a combined column that describes ecDNA and amplification status\n",
    "specific_gene_ctype['combined_status'] = ''\n",
    "for i, row in specific_gene_ctype.iterrows() :\n",
    "    if row['ecDNA_status'] and row['amp'] :\n",
    "        specific_gene_ctype.loc[i, 'combined_status'] = \"ecDNA & amp\"\n",
    "    elif row['ecDNA_status'] and not row['amp'] :\n",
    "        specific_gene_ctype.loc[i, 'combined_status'] = \"ecDNA & no amp\"\n",
    "    elif not row['ecDNA_status'] and row['amp'] :\n",
    "        specific_gene_ctype.loc[i, 'combined_status'] = \"no ecDNA & amp\"\n",
    "    else :\n",
    "        specific_gene_ctype.loc[i, 'combined_status'] = \"no ecDNA & no amp\"\n"
   ]
  },
  {
   "cell_type": "markdown",
   "metadata": {},
   "source": [
    "### KM and Cox Models"
   ]
  },
  {
   "cell_type": "code",
   "execution_count": 11,
   "metadata": {},
   "outputs": [
    {
     "data": {
      "text/plain": [
       "<matplotlib.legend.Legend at 0x7fab009bca70>"
      ]
     },
     "execution_count": 11,
     "metadata": {},
     "output_type": "execute_result"
    },
    {
     "data": {
      "image/png": "[encoded data removed]",
      "text/plain": [
       "<Figure size 640x480 with 1 Axes>"
      ]
     },
     "metadata": {},
     "output_type": "display_data"
    }
   ],
   "source": [
    "from lifelines import KaplanMeierFitter\n",
    "\n",
    "specific_gene_ctype_nona = specific_gene_ctype.dropna(subset = ['combined_status', 'osMonths', 'osStatus'])\n",
    "\n",
    "kmf = KaplanMeierFitter()\n",
    "for status in specific_gene_ctype_nona['combined_status'].unique():\n",
    "\n",
    "    subset = specific_gene_ctype_nona[specific_gene_ctype_nona['combined_status'] == status]\n",
    "    kmf.fit(subset['osMonths'], event_observed=(subset['osStatus'] == 'DECEASED'))\n",
    "\n",
    "    kmf.plot(show_censors=True, ci_show=True, label=f'{status}')\n",
    "\n",
    "# # Add labels and legend\n",
    "plt.title('Overall Kaplan-Meier Survival Curves for ecDNA Positive/Negative')\n",
    "plt.xlabel(\"\")\n",
    "plt.legend()"
   ]
  },
  {
   "cell_type": "markdown",
   "metadata": {},
   "source": [
    "Pairwise p-values"
   ]
  },
  {
   "cell_type": "code",
   "execution_count": 12,
   "metadata": {},
   "outputs": [],
   "source": [
    "from itertools import combinations\n",
    "from lifelines.statistics import logrank_test\n",
    "\n",
    "kmf = KaplanMeierFitter()\n",
    "kmf2 = KaplanMeierFitter()\n",
    "\n",
    "statuses = specific_gene_ctype_nona['combined_status'].unique()\n",
    "pairwise_tests = {}\n",
    "\n",
    "for group1, group2 in combinations(statuses, 2) :\n",
    "    group1_data = specific_gene_ctype_nona[specific_gene_ctype_nona['combined_status'] == group1]\n",
    "    group2_data = specific_gene_ctype_nona[specific_gene_ctype_nona['combined_status'] == group2]\n",
    "\n",
    "    # Fit KM curves\n",
    "    kmf.fit(group1_data['osMonths'], event_observed=(group1_data['osStatus'] == 'DECEASED'))\n",
    "    kmf2.fit(group2_data['osMonths'], event_observed=(group2_data['osStatus'] == 'DECEASED'))\n",
    "    \n",
    "    # Perform log-rank test\n",
    "    result = logrank_test(group1_data['osMonths'], group2_data['osMonths'], event_observed_A=(group1_data['osStatus'] == 'DECEASED'), event_observed_B=(group2_data['osStatus'] == 'DECEASED'))\n",
    "    \n",
    "    # Store p-value in dictionary\n",
    "    pairwise_tests[(group1, group2)] = result.p_value"
   ]
  },
  {
   "cell_type": "code",
   "execution_count": 13,
   "metadata": {},
   "outputs": [
    {
     "name": "stdout",
     "output_type": "stream",
     "text": [
      "P-values for KM Curves\n"
     ]
    },
    {
     "data": {
      "text/html": [
       "<style type=\"text/css\">\n",
       "#T_d2129 th {\n",
       "  border: 1px solid black;\n",
       "}\n",
       "#T_d2129 td {\n",
       "  border: 1px solid black;\n",
       "}\n",
       "</style>\n",
       "<table id=\"T_d2129\">\n",
       "  <thead>\n",
       "    <tr>\n",
       "      <th class=\"blank level0\" >&nbsp;</th>\n",
       "      <th id=\"T_d2129_level0_col0\" class=\"col_heading level0 col0\" >ecDNA & amp</th>\n",
       "      <th id=\"T_d2129_level0_col1\" class=\"col_heading level0 col1\" >no ecDNA & no amp</th>\n",
       "    </tr>\n",
       "  </thead>\n",
       "  <tbody>\n",
       "    <tr>\n",
       "      <th id=\"T_d2129_level0_row0\" class=\"row_heading level0 row0\" >no ecDNA & amp</th>\n",
       "      <td id=\"T_d2129_row0_col0\" class=\"data row0 col0\" >0.181786</td>\n",
       "      <td id=\"T_d2129_row0_col1\" class=\"data row0 col1\" >0.764085</td>\n",
       "    </tr>\n",
       "    <tr>\n",
       "      <th id=\"T_d2129_level0_row1\" class=\"row_heading level0 row1\" >ecDNA & amp</th>\n",
       "      <td id=\"T_d2129_row1_col0\" class=\"data row1 col0\" ></td>\n",
       "      <td id=\"T_d2129_row1_col1\" class=\"data row1 col1\" >0.211043</td>\n",
       "    </tr>\n",
       "  </tbody>\n",
       "</table>\n"
      ],
      "text/plain": [
       "<pandas.io.formats.style.Styler at 0x7faafcf417f0>"
      ]
     },
     "execution_count": 13,
     "metadata": {},
     "output_type": "execute_result"
    }
   ],
   "source": [
    "p_values_matrix = pd.DataFrame(index=statuses, columns=statuses)\n",
    "for (group1, group2), p_value in pairwise_tests.items():\n",
    "    if group1 != group2:\n",
    "        p_values_matrix.loc[group1, group2] = p_value\n",
    "p_values_matrix = p_values_matrix.fillna(\"\")\n",
    "\n",
    "print(\"P-values for KM Curves\")\n",
    "\n",
    "styled_matrix = p_values_matrix.iloc[:-1, 1:].style.set_table_styles([{\n",
    "    'selector': 'th',\n",
    "    'props': [('border', '1px solid black')]\n",
    "}, {\n",
    "    'selector': 'td',\n",
    "    'props': [('border', '1px solid black')]\n",
    "}])\n",
    "styled_matrix"
   ]
  },
  {
   "cell_type": "code",
   "execution_count": 14,
   "metadata": {},
   "outputs": [
    {
     "name": "stderr",
     "output_type": "stream",
     "text": [
      "/tmp/ipykernel_11750/1395399748.py:3: SettingWithCopyWarning: \n",
      "A value is trying to be set on a copy of a slice from a DataFrame.\n",
      "Try using .loc[row_indexer,col_indexer] = value instead\n",
      "\n",
      "See the caveats in the documentation: https://pandas.pydata.org/pandas-docs/stable/user_guide/indexing.html#returning-a-view-versus-a-copy\n",
      "  gene_cox['eventOccurred'] = (gene_cox['osStatus'] == 'DECEASED').astype(int)\n"
     ]
    },
    {
     "data": {
      "text/html": [
       "<div>\n",
       "<style scoped>\n",
       "    .dataframe tbody tr th:only-of-type {\n",
       "        vertical-align: middle;\n",
       "    }\n",
       "\n",
       "    .dataframe tbody tr th {\n",
       "        vertical-align: top;\n",
       "    }\n",
       "\n",
       "    .dataframe thead th {\n",
       "        text-align: right;\n",
       "    }\n",
       "</style>\n",
       "<table border=\"1\" class=\"dataframe\">\n",
       "  <tbody>\n",
       "    <tr>\n",
       "      <th>model</th>\n",
       "      <td>lifelines.CoxPHFitter</td>\n",
       "    </tr>\n",
       "    <tr>\n",
       "      <th>duration col</th>\n",
       "      <td>'osMonths'</td>\n",
       "    </tr>\n",
       "    <tr>\n",
       "      <th>event col</th>\n",
       "      <td>'eventOccurred'</td>\n",
       "    </tr>\n",
       "    <tr>\n",
       "      <th>baseline estimation</th>\n",
       "      <td>breslow</td>\n",
       "    </tr>\n",
       "    <tr>\n",
       "      <th>number of observations</th>\n",
       "      <td>185</td>\n",
       "    </tr>\n",
       "    <tr>\n",
       "      <th>number of events observed</th>\n",
       "      <td>131</td>\n",
       "    </tr>\n",
       "    <tr>\n",
       "      <th>partial log-likelihood</th>\n",
       "      <td>-586.38</td>\n",
       "    </tr>\n",
       "    <tr>\n",
       "      <th>time fit was run</th>\n",
       "      <td>2024-07-23 20:54:51 UTC</td>\n",
       "    </tr>\n",
       "  </tbody>\n",
       "</table>\n",
       "</div><table border=\"1\" class=\"dataframe\">\n",
       "  <thead>\n",
       "    <tr style=\"text-align: right;\">\n",
       "      <th style=\"min-width: 12px;\"></th>\n",
       "      <th style=\"min-width: 12px;\">coef</th>\n",
       "      <th style=\"min-width: 12px;\">exp(coef)</th>\n",
       "      <th style=\"min-width: 12px;\">se(coef)</th>\n",
       "      <th style=\"min-width: 12px;\">coef lower 95%</th>\n",
       "      <th style=\"min-width: 12px;\">coef upper 95%</th>\n",
       "      <th style=\"min-width: 12px;\">exp(coef) lower 95%</th>\n",
       "      <th style=\"min-width: 12px;\">exp(coef) upper 95%</th>\n",
       "      <th style=\"min-width: 12px;\">cmp to</th>\n",
       "      <th style=\"min-width: 12px;\">z</th>\n",
       "      <th style=\"min-width: 12px;\">p</th>\n",
       "      <th style=\"min-width: 12px;\">-log2(p)</th>\n",
       "    </tr>\n",
       "  </thead>\n",
       "  <tbody>\n",
       "    <tr>\n",
       "      <th>amp</th>\n",
       "      <td>-0.06</td>\n",
       "      <td>0.94</td>\n",
       "      <td>0.20</td>\n",
       "      <td>-0.45</td>\n",
       "      <td>0.33</td>\n",
       "      <td>0.64</td>\n",
       "      <td>1.40</td>\n",
       "      <td>0.00</td>\n",
       "      <td>-0.30</td>\n",
       "      <td>0.77</td>\n",
       "      <td>0.38</td>\n",
       "    </tr>\n",
       "    <tr>\n",
       "      <th>ecDNA_status</th>\n",
       "      <td>0.37</td>\n",
       "      <td>1.45</td>\n",
       "      <td>0.26</td>\n",
       "      <td>-0.13</td>\n",
       "      <td>0.88</td>\n",
       "      <td>0.87</td>\n",
       "      <td>2.41</td>\n",
       "      <td>0.00</td>\n",
       "      <td>1.44</td>\n",
       "      <td>0.15</td>\n",
       "      <td>2.74</td>\n",
       "    </tr>\n",
       "  </tbody>\n",
       "</table><br><div>\n",
       "<style scoped>\n",
       "    .dataframe tbody tr th:only-of-type {\n",
       "        vertical-align: middle;\n",
       "    }\n",
       "\n",
       "    .dataframe tbody tr th {\n",
       "        vertical-align: top;\n",
       "    }\n",
       "\n",
       "    .dataframe thead th {\n",
       "        text-align: right;\n",
       "    }\n",
       "</style>\n",
       "<table border=\"1\" class=\"dataframe\">\n",
       "  <tbody>\n",
       "    <tr>\n",
       "      <th>Concordance</th>\n",
       "      <td>0.52</td>\n",
       "    </tr>\n",
       "    <tr>\n",
       "      <th>Partial AIC</th>\n",
       "      <td>1176.77</td>\n",
       "    </tr>\n",
       "    <tr>\n",
       "      <th>log-likelihood ratio test</th>\n",
       "      <td>1.93 on 2 df</td>\n",
       "    </tr>\n",
       "    <tr>\n",
       "      <th>-log2(p) of ll-ratio test</th>\n",
       "      <td>1.39</td>\n",
       "    </tr>\n",
       "  </tbody>\n",
       "</table>\n",
       "</div>"
      ],
      "text/latex": [
       "\\begin{tabular}{lrrrrrrrrrrr}\n",
       " & coef & exp(coef) & se(coef) & coef lower 95% & coef upper 95% & exp(coef) lower 95% & exp(coef) upper 95% & cmp to & z & p & -log2(p) \\\\\n",
       "covariate &  &  &  &  &  &  &  &  &  &  &  \\\\\n",
       "amp & -0.06 & 0.94 & 0.20 & -0.45 & 0.33 & 0.64 & 1.40 & 0.00 & -0.30 & 0.77 & 0.38 \\\\\n",
       "ecDNA_status & 0.37 & 1.45 & 0.26 & -0.13 & 0.88 & 0.87 & 2.41 & 0.00 & 1.44 & 0.15 & 2.74 \\\\\n",
       "\\end{tabular}\n"
      ],
      "text/plain": [
       "<lifelines.CoxPHFitter: fitted with 185 total observations, 54 right-censored observations>\n",
       "             duration col = 'osMonths'\n",
       "                event col = 'eventOccurred'\n",
       "      baseline estimation = breslow\n",
       "   number of observations = 185\n",
       "number of events observed = 131\n",
       "   partial log-likelihood = -586.38\n",
       "         time fit was run = 2024-07-23 20:54:51 UTC\n",
       "\n",
       "---\n",
       "               coef  exp(coef)   se(coef)   coef lower 95%   coef upper 95%  exp(coef) lower 95%  exp(coef) upper 95%\n",
       "covariate                                                                                                            \n",
       "amp           -0.06       0.94       0.20            -0.45             0.33                 0.64                 1.40\n",
       "ecDNA_status   0.37       1.45       0.26            -0.13             0.88                 0.87                 2.41\n",
       "\n",
       "               cmp to     z    p   -log2(p)\n",
       "covariate                                  \n",
       "amp              0.00 -0.30 0.77       0.38\n",
       "ecDNA_status     0.00  1.44 0.15       2.74\n",
       "---\n",
       "Concordance = 0.52\n",
       "Partial AIC = 1176.77\n",
       "log-likelihood ratio test = 1.93 on 2 df\n",
       "-log2(p) of ll-ratio test = 1.39"
      ]
     },
     "metadata": {},
     "output_type": "display_data"
    },
    {
     "name": "stdout",
     "output_type": "stream",
     "text": [
      "                  coef  exp(coef)  se(coef)  coef lower 95%  coef upper 95%  \\\n",
      "covariate                                                                     \n",
      "amp          -0.059449   0.942284  0.200439       -0.452303        0.333405   \n",
      "ecDNA_status  0.372762   1.451739  0.258464       -0.133818        0.879343   \n",
      "\n",
      "              exp(coef) lower 95%  exp(coef) upper 95%  cmp to         z  \\\n",
      "covariate                                                                  \n",
      "amp                      0.636162             1.395712     0.0 -0.296594   \n",
      "ecDNA_status             0.874750             2.409315     0.0  1.442222   \n",
      "\n",
      "                     p  -log2(p)  \n",
      "covariate                         \n",
      "amp           0.766777  0.383122  \n",
      "ecDNA_status  0.149240  2.744296  \n"
     ]
    }
   ],
   "source": [
    "# A cox model for ecDNA status and amp\n",
    "gene_cox = specific_gene_ctype.dropna(subset = ['osMonths', 'osStatus', 'ecDNA_status', 'amp'])\n",
    "gene_cox['eventOccurred'] = (gene_cox['osStatus'] == 'DECEASED').astype(int)\n",
    "\n",
    "from lifelines import CoxPHFitter\n",
    "\n",
    "cox = CoxPHFitter()\n",
    "covariates = ['osMonths', 'eventOccurred', 'amp', 'ecDNA_status']\n",
    "cox.fit(gene_cox[covariates], duration_col = 'osMonths', event_col = 'eventOccurred')\n",
    "cox.print_summary()\n",
    "print(cox.summary)"
   ]
  },
  {
   "cell_type": "markdown",
   "metadata": {},
   "source": [
    "### Facets Analysis"
   ]
  },
  {
   "cell_type": "code",
   "execution_count": 15,
   "metadata": {
    "scrolled": true
   },
   "outputs": [],
   "source": [
    "if use_facets :\n",
    "    # create dictionaries for segment lengths and which samples are amplified\n",
    "    segment_lengths = {}\n",
    "    facets_amps = {}\n",
    "    for i, row in facets.iterrows() :\n",
    "        if isinstance(row['cn_state'], str) :\n",
    "            segment_lengths[row['sample']] = row['seg_length']\n",
    "            if \"AMP\" in row['cn_state'] :\n",
    "                facets_amps[row['sample']] = True"
   ]
  },
  {
   "cell_type": "code",
   "execution_count": 16,
   "metadata": {},
   "outputs": [],
   "source": [
    "if use_facets :\n",
    "\n",
    "    # Make a dataframe to analyze\n",
    "    facets_lengths_df = facets[['sample', 'seg_length', 'tcn']]\n",
    "    \n",
    "    # These are the samples to use\n",
    "    ctype_sampleIds = {}\n",
    "    # These are for labeling ecDNA pos and neg (to get rid of na ones)\n",
    "    ecDNA_pos = {}\n",
    "    ecDNA_neg = {}\n",
    "    for i, row in echo_ctype.iterrows() :\n",
    "        if row[analysis_type] == cancerTypeToStudy :\n",
    "            ctype_sampleIds[row['tumorSampleId']] = True\n",
    "            if row['tumorSampleId'] in facets_amps :\n",
    "                if row['ecDNA_status'] == 'ecDNA' :\n",
    "                    ecDNA_pos[row['tumorSampleId']] = True\n",
    "                if row['ecDNA_status'] == 'non-ecDNA' :\n",
    "                    ecDNA_neg[row['tumorSampleId']] = True\n",
    "    facets_lengths_df = facets_lengths_df[facets_lengths_df['sample'].isin(ctype_sampleIds)]"
   ]
  },
  {
   "cell_type": "code",
   "execution_count": 17,
   "metadata": {},
   "outputs": [],
   "source": [
    "if use_facets :\n",
    "    \n",
    "    # Label the ones that are not called na\n",
    "    facets_lengths_df['ecDNA'] = np.nan\n",
    "    \n",
    "    for i, row in facets_lengths_df.iterrows() :\n",
    "        if row['sample'] in ecDNA_pos :\n",
    "            facets_lengths_df.loc[i, 'ecDNA'] = True\n",
    "        if row['sample'] in ecDNA_neg :\n",
    "            facets_lengths_df.loc[i, 'ecDNA'] = False\n"
   ]
  },
  {
   "cell_type": "markdown",
   "metadata": {},
   "source": [
    "Segment size vs copy number for those called amplified in both FACETS and ECHO, uses FACETS called copy numbers"
   ]
  },
  {
   "cell_type": "code",
   "execution_count": 18,
   "metadata": {},
   "outputs": [],
   "source": [
    "if use_facets :\n",
    "\n",
    "    facets_lengths_df_nona = facets_lengths_df.dropna()\n",
    "    \n",
    "    facets_amp = facets_lengths_df_nona\n",
    "    \n",
    "    # Define colors for each category\n",
    "    color_map = {True: 'sandybrown', False: 'steelblue'}\n",
    "    \n",
    "    # Create a list of colors based on the 'ecDNA' column\n",
    "    colors = facets_amp['ecDNA'].map(color_map)\n",
    "    \n",
    "    # Create the scatter plot\n",
    "    plt.figure(figsize=(8, 6))\n",
    "    plt.scatter(facets_amp['seg_length'], facets_amp['tcn'], c=colors, label=facets_amp['ecDNA'], alpha = 0.3)\n",
    "    plt.yscale('log')\n",
    "    plt.xscale('log')\n",
    "    plt.ylabel('Copy Numnber')\n",
    "    plt.xlabel('Segment Length')\n",
    "    plt.title(\"Copy Number vs Segment Length\")\n",
    "    \n",
    "    legend_labels = ['ecDNA', 'non-ecDNA']\n",
    "    legend_colors = ['sandybrown', 'steelblue']\n",
    "    markers = [plt.Line2D([0,0],[0,0],color=color, marker='o', linestyle='') for color in legend_colors]\n",
    "    plt.legend(markers, legend_labels, loc='upper right')"
   ]
  },
  {
   "cell_type": "code",
   "execution_count": 19,
   "metadata": {},
   "outputs": [],
   "source": [
    "if use_facets :\n",
    "    \n",
    "    # Separate data for ecDNA and non-ecDNA\n",
    "    ecDNA_facets_amp = facets_amp[facets_amp['ecDNA'] == True]['tcn']\n",
    "    log_ecDNA = [math.log10(x) for x in ecDNA_facets_amp]\n",
    "    \n",
    "    non_ecDNA_facets_amp = facets_amp[facets_amp['ecDNA'] == False]['tcn']\n",
    "    log_non_ecDNA = [math.log10(x) for x in non_ecDNA_facets_amp]\n",
    "    \n",
    "    # Plotting histograms on logarithmic scale\n",
    "    plt.figure(figsize=(10, 6))\n",
    "    bins = np.linspace(min(log_ecDNA + log_non_ecDNA), max(log_ecDNA + log_non_ecDNA),30)\n",
    "    # Histogram for ecDNA = ecDNA\n",
    "    plt.hist(log_ecDNA, alpha=0.5, bins = bins, color='sandybrown', label='ecDNA', density = True)\n",
    "    \n",
    "    # Histogram for ecDNA = non-ecDNA\n",
    "    plt.hist(log_non_ecDNA,  alpha=0.5, bins = bins, color='steelblue', label='non-ecDNA', density = True)\n",
    "    \n",
    "    # Customize the plot\n",
    "    plt.title('Distribution of Copy Number')\n",
    "    plt.xlabel('Copy Number (log)')\n",
    "    plt.ylabel('Proportion')\n",
    "    \n",
    "    legend_labels = ['ecDNA', 'non-ecDNA']\n",
    "    legend_colors = ['sandybrown', 'steelblue']\n",
    "    markers = [plt.Line2D([0,0],[0,0],color=color, marker='o', linestyle='') for color in legend_colors]\n",
    "    plt.legend(markers, legend_labels, loc='upper right')"
   ]
  },
  {
   "cell_type": "code",
   "execution_count": 20,
   "metadata": {},
   "outputs": [],
   "source": [
    "if use_facets :\n",
    "    \n",
    "    # Separate data for ecDNA and non-ecDNA\n",
    "    ecDNA_facets_amp = facets_amp[facets_amp['ecDNA'] == True]['seg_length']\n",
    "    log_ecDNA = [math.log10(x) for x in ecDNA_facets_amp]\n",
    "    \n",
    "    non_ecDNA_facets_amp = facets_amp[facets_amp['ecDNA'] == False]['seg_length']\n",
    "    log_non_ecDNA = [math.log10(x) for x in non_ecDNA_facets_amp]\n",
    "    \n",
    "    # Plotting histograms on logarithmic scale\n",
    "    plt.figure(figsize=(10, 6))\n",
    "    bins = np.linspace(min(log_ecDNA + log_non_ecDNA), max(log_ecDNA + log_non_ecDNA),30)\n",
    "    # Histogram for ecDNA = ecDNA\n",
    "    plt.hist(log_ecDNA, alpha=0.5, bins = bins, color='sandybrown', label='ecDNA', density = True)\n",
    "    \n",
    "    # Histogram for ecDNA = non-ecDNA\n",
    "    plt.hist(log_non_ecDNA,  alpha=0.5, bins = bins, color='steelblue', label='non-ecDNA', density = True)\n",
    "    \n",
    "    # Customize the plot\n",
    "    plt.title('Distribution of Segment Length')\n",
    "    plt.xlabel('Segment Length (log)')\n",
    "    plt.ylabel('Proportion')\n",
    "    \n",
    "    legend_labels = ['ecDNA', 'non-ecDNA']\n",
    "    legend_colors = ['sandybrown', 'steelblue']\n",
    "    markers = [plt.Line2D([0,0],[0,0],color=color, marker='o', linestyle='') for color in legend_colors]\n",
    "    plt.legend(markers, legend_labels, loc='upper right')\n"
   ]
  },
  {
   "cell_type": "markdown",
   "metadata": {},
   "source": [
    "### Timeline"
   ]
  },
  {
   "cell_type": "code",
   "execution_count": 36,
   "metadata": {},
   "outputs": [],
   "source": [
    "# Set up the data from CDSI\n",
    "timeline_data = pd.read_csv('/work/access/production/resources/cbioportal/current/msk_solid_heme/data_timeline_timeline_follow_up.txt', sep = '\\t')\n",
    "sequencing = pd.read_csv('/work/access/production/resources/cbioportal/current/msk_solid_heme/data_timeline_specimen.txt', sep = '\\t')\n",
    "\n",
    "sequencing_dict = {}\n",
    "for i, row in sequencing.iterrows() :\n",
    "    sequencing_dict[row['SAMPLE_ID']] = row['START_DATE']\n",
    "\n",
    "last_contact_dict = {}\n",
    "death_dict = {}\n",
    "for i, row in timeline_data.iterrows() :\n",
    "    if row['SOURCE'] == \"Last Contact\" :\n",
    "        last_contact_dict[row['PATIENT_ID']] = row['START_DATE']\n",
    "    if row['SOURCE'] == \"Patient Deceased\" :\n",
    "        death_dict[row['PATIENT_ID']] = row['START_DATE']\n"
   ]
  },
  {
   "cell_type": "code",
   "execution_count": 37,
   "metadata": {},
   "outputs": [],
   "source": [
    "# To store all the info\n",
    "timelines = {}\n",
    "\n",
    "# To keep track of start point\n",
    "earliest_date = {}\n",
    "for i, row in echo_ctype.iterrows() :\n",
    "    if row['ecDNA_status'] == 'ecDNA' :\n",
    "        if row['tumorSampleId'] in sequencing_dict :\n",
    "            if not row['patientId'] in timelines :\n",
    "                timelines[row['patientId']] = []\n",
    "                earliest_date[row['patientId']] = sequencing_dict[row['tumorSampleId']]\n",
    "            else :\n",
    "                earliest_date[row['patientId']] = min(earliest_date[row['patientId']], sequencing_dict[row['tumorSampleId']])\n",
    "\n"
   ]
  },
  {
   "cell_type": "code",
   "execution_count": 38,
   "metadata": {},
   "outputs": [],
   "source": [
    "sample_to_ecDNA = {}\n",
    "for i, row in echo_ctype.iterrows() :\n",
    "    if row['patientId'] in timelines :\n",
    "        if sequencing_dict[row['tumorSampleId']] != earliest_date[row['patientId']] :\n",
    "            if row['gene'] == geneToStudy and row['ecDNA_status'] == 'ecDNA' :\n",
    "                sample_to_ecDNA[row['tumorSampleId']] = 'ecDNA & Amp'\n",
    "            elif row['gene'] == geneToStudy :\n",
    "                sample_to_ecDNA[row['tumorSampleId']] = 'non-ecDNA & Amp'\n",
    "            elif not row['tumorSampleId'] in sample_to_ecDNA :\n",
    "                sample_to_ecDNA[row['tumorSampleId']] = 'non-amp'\n",
    "                "
   ]
  },
  {
   "cell_type": "code",
   "execution_count": 51,
   "metadata": {},
   "outputs": [],
   "source": [
    "for sample in sample_to_ecDNA :\n",
    "    patientId = sample.split('-')[0] + '-' + sample.split('-')[1]\n",
    "    timelines[patientId].append((sequencing_dict[sample] - earliest_date[patientId], sample_to_ecDNA[sample]))\n",
    "timelines_interesting = {key: value for key, value in timelines.items() if value}\n",
    "\n",
    "endpoints = []\n",
    "for patientId in timelines_interesting :\n",
    "    if patientId in death_dict :\n",
    "        timelines[patientId].append((death_dict[patientId], \"Patient Deceased\"))\n",
    "        endpoints.append(death_dict[patientId])\n",
    "    else :\n",
    "        timelines[patientId].append((last_contact_dict[patientId], \"Last Contact\"))\n",
    "        endpoints.append(last_contact_dict[patientId])\n",
    "startpoints = []\n",
    "for patientId in timelines_interesting :\n",
    "    earliest = 10000000\n",
    "    for pair in timelines_interesting[patientId] :\n",
    "        earliest = min(earliest, pair[0])\n",
    "    startpoints.append(earliest)"
   ]
  },
  {
   "cell_type": "code",
   "execution_count": 55,
   "metadata": {},
   "outputs": [
    {
     "data": {
      "image/png": "[encoded data removed]",
      "text/plain": [
       "<Figure size 1000x650 with 1 Axes>"
      ]
     },
     "metadata": {},
     "output_type": "display_data"
    }
   ],
   "source": [
    "timelines_interesting = {key: value for key, value in timelines.items() if value}\n",
    "for i in timelines_interesting :\n",
    "    timelines_interesting[i].insert(0, (0, 'ecDNA & Amp'))\n",
    "# Plotting the timelines\n",
    "plt.figure(figsize=(10, 2 + 0.5 * (len(timelines_interesting))))  # Adjust figsize as needed\n",
    "\n",
    "label_colors = {\n",
    "    'ecDNA & Amp': 'indianred',\n",
    "    'non-ecDNA & Amp': 'darkorange',\n",
    "    'non-amp': 'yellowgreen',\n",
    "    'Patient Deceased': 'black',\n",
    "    'Last Contact': 'silver',\n",
    "}\n",
    "\n",
    "for idx, (label, points) in enumerate(timelines_interesting.items(), start=1):\n",
    "    # Extract x values (times) and labels\n",
    "    times, labels = zip(*points)\n",
    "    \n",
    "    # Plot lines connecting points with label-specific color\n",
    "    for i in range(len(times)):\n",
    "            plt.plot([times[i], times[i]], [idx, idx], '.-', color=label_colors[labels[i]], markersize=10,linewidth=2)\n",
    "    plt.hlines(y=idx, xmin=startpoints[idx-1], xmax=endpoints[idx-1], color='black', linestyle='--')\n",
    "\n",
    "# Customize plot appearance\n",
    "plt.ylim(0, len(timelines_interesting) + 1)  # Set y-axis limit to accommodate all timelines\n",
    "plt.xlabel('Time Since First ecDNA')\n",
    "plt.yticks(np.arange(1, len(timelines_interesting) + 1), timelines_interesting.keys())\n",
    "plt.title(f'{geneToStudy} ecDNA Timelines')\n",
    "\n",
    "# Add legend with colored markers\n",
    "legend_handles = [plt.Line2D([0], [0], marker='o', color='w', label=label, markersize=10, markerfacecolor=color)\n",
    "                  for label, color in label_colors.items()]\n",
    "plt.legend(handles=legend_handles, loc='upper right')\n",
    "\n",
    "plt.grid(axis='x')\n",
    "plt.tight_layout()\n",
    "\n",
    "# Show plot\n",
    "plt.show()"
   ]
  },
  {
   "cell_type": "code",
   "execution_count": null,
   "metadata": {},
   "outputs": [],
   "source": []
  }
 ],
 "metadata": {
  "interpreter": {
   "hash": "f90fd0082f55848d5340f4d882c79e3aa3cd8a4134f70c663cf97e5a64ef80a1"
  },
  "kernelspec": {
   "display_name": "Python 3 (ipykernel)",
   "language": "python",
   "name": "python3"
  },
  "language_info": {
   "codemirror_mode": {
    "name": "ipython",
    "version": 3
   },
   "file_extension": ".py",
   "mimetype": "text/x-python",
   "name": "python",
   "nbconvert_exporter": "python",
   "pygments_lexer": "ipython3",
   "version": "3.12.0"
  }
 },
 "nbformat": 4,
 "nbformat_minor": 4
}
