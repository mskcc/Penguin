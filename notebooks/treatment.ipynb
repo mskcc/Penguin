{
 "cells": [
  {
   "cell_type": "markdown",
   "id": "7fe32709-439a-4c6e-9ae4-f114242ccec1",
   "metadata": {},
   "source": [
    "### Settings"
   ]
  },
  {
   "cell_type": "code",
   "execution_count": 1,
   "id": "b463e5b7-4324-44b8-aab4-a8864a56079a",
   "metadata": {},
   "outputs": [],
   "source": [
    "import pandas as pd\n",
    "import numpy as np\n",
    "import matplotlib.pyplot as plt"
   ]
  },
  {
   "cell_type": "code",
   "execution_count": 2,
   "id": "c8bd9a0c-2a67-4607-8b13-151c8db82db3",
   "metadata": {},
   "outputs": [],
   "source": [
    "# The drug to study\n",
    "agent = \"Trastuzumab\"\n",
    "# Include anything with the agent name\n",
    "combination_therapy = True\n",
    "# The gene to examine\n",
    "gene = \"ERBB2\"\n",
    "# cancerTypeDetailed or cancerType\n",
    "analysis_type = 'cancerType'\n",
    "# The cancer type\n",
    "ctype = \"Breast Cancer\"\n",
    "# Modifier to the date (how many days earlier the sequencing can be from start of treatment)\n",
    "modifier = 20"
   ]
  },
  {
   "cell_type": "code",
   "execution_count": 3,
   "id": "4ae94ce4-8539-4f73-a71d-d5f3347da9e4",
   "metadata": {},
   "outputs": [],
   "source": [
    "config = \"../global_config_bash.rc\""
   ]
  },
  {
   "cell_type": "markdown",
   "id": "54bafcf4-1fcd-44a0-89ce-94c014dfba66",
   "metadata": {},
   "source": [
    "Automatically generated"
   ]
  },
  {
   "cell_type": "code",
   "execution_count": 4,
   "id": "50c18693-6a41-4a2c-9881-a86d8ea3c637",
   "metadata": {},
   "outputs": [],
   "source": [
    "with open(config, 'r') as f :\n",
    "    bash_script_content = f.read()\n",
    "    lines = bash_script_content.splitlines()\n",
    "paths = {}\n",
    "for line in lines:\n",
    "    line = line.strip()\n",
    "    if line and '=' in line:\n",
    "        key, value = line.split('=', 1)\n",
    "        key = key.strip()\n",
    "        value = value.strip()\n",
    "        # Handle variable references\n",
    "        while '${' in value:\n",
    "            start_index = value.find('${')\n",
    "            end_index = value.find('}', start_index)\n",
    "            if start_index != -1 and end_index != -1:\n",
    "                variable_name = value[start_index + 2:end_index]\n",
    "                if variable_name in paths:\n",
    "                    value = value[:start_index] + paths[variable_name] + value[end_index + 1:]\n",
    "                else:\n",
    "                    break  # Stop if variable reference not found\n",
    "        paths[key] = value.strip('\"\\'')  # Remove surrounding quotes if any"
   ]
  },
  {
   "cell_type": "code",
   "execution_count": 5,
   "id": "c17e7268-2057-4935-91f2-bad102c5b4e2",
   "metadata": {},
   "outputs": [],
   "source": [
    "# Merged ECHO results\n",
    "echo = pd.read_csv(paths['mergedOutputDirectory'] + '/merged.ECHO_results.csv')\n",
    "# FileA in the manifest directory\n",
    "manifest = pd.read_csv(paths['manifestDirectory'] + '/FileA.tsv', sep = '\\t')"
   ]
  },
  {
   "cell_type": "code",
   "execution_count": 6,
   "id": "4396013c-d435-4a69-866d-597fc230d09a",
   "metadata": {},
   "outputs": [],
   "source": [
    "progression = pd.read_csv('/work/access/production/resources/cbioportal/current/msk_solid_heme/data_timeline_progression.txt', sep = '\\t')\n",
    "sequencing = pd.read_csv('/work/access/production/resources/cbioportal/current/msk_solid_heme/data_timeline_specimen.txt', sep = '\\t')\n",
    "timeline_data = pd.read_csv('/work/access/production/resources/cbioportal/current/msk_solid_heme/data_timeline_timeline_follow_up.txt', sep = '\\t')\n",
    "treatment_data = pd.read_csv('/work/access/production/resources/cbioportal/current/msk_solid_heme/data_timeline_treatment.txt', sep = '\\t')"
   ]
  },
  {
   "cell_type": "markdown",
   "id": "0e1ae544-e34e-4781-8393-ee458a333f85",
   "metadata": {},
   "source": [
    "### Setup"
   ]
  },
  {
   "cell_type": "markdown",
   "id": "036ddc36-75b4-493d-82f5-33543ea40985",
   "metadata": {},
   "source": [
    "ECHO dataframe"
   ]
  },
  {
   "cell_type": "code",
   "execution_count": 7,
   "id": "57f75f45-a873-4736-99f3-f87cdb2f69b3",
   "metadata": {},
   "outputs": [],
   "source": [
    "echo['patientId'] = echo['sample_id'].apply(lambda x: x.split('-', 2)[0] + '-' + x.split('-', 2)[1])\n",
    "echo['tumorSampleId'] = echo['sample_id'].apply(lambda x: '-'.join(x.split('-', 4)[:4]))\n",
    "echo['normalSampleId'] = echo.apply(lambda row: row['sample_id'][len(row['tumorSampleId']):].lstrip('-'), axis = 1)\n",
    "echo.drop('sample_id', axis = 1, inplace = True)\n",
    "echo = echo[['patientId', 'tumorSampleId', 'normalSampleId', 'chromosome', 'gene', 'log2', 'cn','ecDNA_prob', 'ecDNA_status']]\n",
    "\n",
    "manifest = manifest[['sampleId', 'cancerType', 'cancerTypeDetailed', 'oncotreeCode', 'msiScore', 'msiType', 'mutationCount', 'fractionAltered','osStatus', 'osMonths', 'deIDAge', 'stageHighest']]\n",
    "echo = pd.merge(echo, manifest, left_on = 'tumorSampleId', right_on = 'sampleId', how = 'left')\n"
   ]
  },
  {
   "cell_type": "markdown",
   "id": "e6ccd101-66e6-403c-9ea0-11f0bb847776",
   "metadata": {},
   "source": [
    "per sample"
   ]
  },
  {
   "cell_type": "code",
   "execution_count": 8,
   "id": "7e0d08df-182b-4522-9121-e523e85b4752",
   "metadata": {},
   "outputs": [],
   "source": [
    "echo = echo[echo[analysis_type] == ctype]\n",
    "\n",
    "per_sample = pd.DataFrame(echo['tumorSampleId'].unique(), columns = ['sampleId'])\n",
    "per_sample['amp'] = False\n",
    "per_sample['ecDNA'] = False\n",
    "per_sample['patientId'] = \"\"\n",
    "\n",
    "# Dict for indexes in dataframe\n",
    "per_sample_idx = {}\n",
    "for i, row in per_sample.iterrows() :\n",
    "    per_sample_idx[row['sampleId']] = i\n",
    "    per_sample.loc[i, 'patientId'] = row['sampleId'].split('-')[0] + '-' + row['sampleId'].split('-')[1]\n",
    "\n",
    "for i, row in echo.iterrows() :\n",
    "    if row['gene'] == gene :\n",
    "        per_sample.loc[per_sample_idx[row['tumorSampleId']], 'amp'] = True\n",
    "        if row['ecDNA_status'] == 'ecDNA' :\n",
    "            per_sample.loc[per_sample_idx[row['tumorSampleId']], 'ecDNA'] = True\n",
    "\n",
    "# Combined status\n",
    "per_sample['combined'] = \"No ecDNA & No Amp\"\n",
    "for i, row in per_sample.iterrows() :\n",
    "    if row['ecDNA'] :\n",
    "        per_sample.loc[i, 'combined'] =  \"ecDNA & Amp\"       \n",
    "    elif row['amp'] :\n",
    "        per_sample.loc[i, 'combined'] =  \"No ecDNA & Amp\"       "
   ]
  },
  {
   "cell_type": "markdown",
   "id": "37668e2d-31fc-4bbf-b1cf-d48746d3b731",
   "metadata": {},
   "source": [
    "get timeline data"
   ]
  },
  {
   "cell_type": "code",
   "execution_count": 9,
   "id": "89ccfcf9-f304-4374-831b-54908d48bb43",
   "metadata": {},
   "outputs": [],
   "source": [
    "death_dict = {}\n",
    "\n",
    "for i, row in timeline_data.iterrows() :\n",
    "    if row['SOURCE'] == \"Patient Deceased\" :\n",
    "        death_dict[row['PATIENT_ID']] = row['START_DATE']"
   ]
  },
  {
   "cell_type": "code",
   "execution_count": 10,
   "id": "ee3d4a08-b593-4774-b062-737b0e90fc8f",
   "metadata": {},
   "outputs": [],
   "source": [
    "last_contact_dict = {}\n",
    "\n",
    "for i, row in timeline_data.iterrows() :\n",
    "    if row['SOURCE'] == \"Last Contact\" :\n",
    "        last_contact_dict[row['PATIENT_ID']] = row['START_DATE']"
   ]
  },
  {
   "cell_type": "code",
   "execution_count": 11,
   "id": "ed0bd236-db0f-441c-8c98-984c1521e847",
   "metadata": {},
   "outputs": [],
   "source": [
    "progression_positive = progression[progression['PROGRESSION'] == 'Yes']\n",
    "\n",
    "sequencing_dict = {}\n",
    "for i, row in sequencing.iterrows() :\n",
    "    sequencing_dict[row['SAMPLE_ID']] = row['START_DATE']\n",
    "\n",
    "progression_by_patient = {}\n",
    "for i, row in progression_positive.iterrows() :\n",
    "    if row['PATIENT_ID'] in progression_by_patient :\n",
    "        progression_by_patient[row['PATIENT_ID']].append(row['START_DATE'])\n",
    "    else :\n",
    "        progression_by_patient[row['PATIENT_ID']] = [row['START_DATE']]"
   ]
  },
  {
   "cell_type": "code",
   "execution_count": 12,
   "id": "2bc07d2c-b8f7-4878-8f5d-cc1862a48bbe",
   "metadata": {},
   "outputs": [],
   "source": [
    "treatment_dict = {}\n",
    "for i, row in treatment_data.iterrows() :\n",
    "    if combination_therapy :\n",
    "        if agent in row['AGENT'] :\n",
    "            if row['PATIENT_ID'] in treatment_dict :\n",
    "                treatment_dict[row['PATIENT_ID']].append((row['START_DATE'], row['STOP_DATE']))\n",
    "            else :\n",
    "                treatment_dict[row['PATIENT_ID']] = [(row['START_DATE'], row['STOP_DATE'])]\n",
    "    else :\n",
    "        if row['AGENT'] == agent :\n",
    "            if row['PATIENT_ID'] in treatment_dict :\n",
    "                treatment_dict[row['PATIENT_ID']].append((row['START_DATE'], row['STOP_DATE']))\n",
    "            else :\n",
    "                treatment_dict[row['PATIENT_ID']] = [(row['START_DATE'], row['STOP_DATE'])]\n"
   ]
  },
  {
   "cell_type": "code",
   "execution_count": 13,
   "id": "43e03dd2-c237-4edc-8c90-eee9aa893bb3",
   "metadata": {
    "scrolled": true
   },
   "outputs": [
    {
     "name": "stdout",
     "output_type": "stream",
     "text": [
      "P-0000358-T01-IM3 Sequencing Date Not Found\n",
      "P-0033620-T01-IM6 Sequencing Date Not Found\n"
     ]
    }
   ],
   "source": [
    "per_sample['progressedOrDead'] = False\n",
    "per_sample['pfs'] = np.nan\n",
    "\n",
    "# Iterate all samples\n",
    "for i, row in per_sample.iterrows() :\n",
    "    if row['sampleId'] in sequencing_dict :\n",
    "        seq_time = sequencing_dict[row['sampleId']]\n",
    "    \n",
    "        # Iterate all treatment dates for that sample\n",
    "        if row['patientId'] in treatment_dict :\n",
    "            for date_pair in treatment_dict[row['patientId']] :\n",
    "    \n",
    "                # If we find a date pair that covers the sequence time\n",
    "                if date_pair[0] - modifier < seq_time and (date_pair[1] == np.nan or date_pair[1] > seq_time) :\n",
    "                    if date_pair[1] == np.nan :\n",
    "                        end_date = 1000000\n",
    "                    else :\n",
    "                        end_date = date_pair[1]\n",
    "    \n",
    "                    # Go through progression dates\n",
    "                    if row['patientId'] in progression_by_patient :\n",
    "                        for prog_date in progression_by_patient[row['patientId']] :\n",
    "                            if prog_date > date_pair[0] and prog_date < date_pair[1] :\n",
    "                                per_sample.loc[i, 'progressedOrDead'] = True\n",
    "                                end_date = min(end_date, prog_date)\n",
    "    \n",
    "                    # Check if patient has died\n",
    "                    if row['patientId'] in death_dict :\n",
    "                        end_date = min(end_date, death_dict[row['patientId']])\n",
    "                        per_sample.loc[i, 'progressedOrDead'] = True\n",
    "    \n",
    "                    # Add last contact possibility\n",
    "                    if row['patientId'] in last_contact_dict :\n",
    "                        end_date = min(end_date, last_contact_dict[row['patientId']])\n",
    "    \n",
    "                    if end_date != 1000000 :\n",
    "                        per_sample.loc[i, 'pfs'] = end_date - date_pair[0] \n",
    "    else :\n",
    "        print(f\"{row['sampleId']} Sequencing Date Not Found\")"
   ]
  },
  {
   "cell_type": "code",
   "execution_count": 14,
   "id": "37e63600-e8eb-45ad-bd3d-e101b3b21bdd",
   "metadata": {},
   "outputs": [],
   "source": [
    "per_sample_for_km = per_sample.dropna(subset = [\"pfs\"])"
   ]
  },
  {
   "cell_type": "markdown",
   "id": "dcea6b7e-9f51-4d32-9aae-e5078f84c0a0",
   "metadata": {},
   "source": [
    "### Results"
   ]
  },
  {
   "cell_type": "code",
   "execution_count": 15,
   "id": "a7c14e5f-c30d-4753-8337-f59ee61c91fd",
   "metadata": {},
   "outputs": [
    {
     "data": {
      "text/plain": [
       "<matplotlib.legend.Legend at 0x7f87954f70b0>"
      ]
     },
     "execution_count": 15,
     "metadata": {},
     "output_type": "execute_result"
    },
    {
     "data": {
      "image/png": "[encoded data removed]",
      "text/plain": [
       "<Figure size 640x480 with 1 Axes>"
      ]
     },
     "metadata": {},
     "output_type": "display_data"
    }
   ],
   "source": [
    "import warnings\n",
    "from lifelines import KaplanMeierFitter\n",
    "from lifelines.statistics import logrank_test\n",
    "\n",
    "# Ignore all warnings\n",
    "warnings.filterwarnings('ignore')\n",
    "\n",
    "kmf = KaplanMeierFitter()\n",
    "for status in per_sample_for_km['combined'].unique():\n",
    "    subset = per_sample_for_km[per_sample_for_km['combined'] == status]\n",
    "    kmf.fit(subset['pfs'], event_observed=(subset['progressedOrDead'] == True))\n",
    "    # labels\n",
    "    kmf.plot(show_censors=False, ci_show=True, label=f'{status}')\n",
    "\n",
    "# # Add labels and legend\n",
    "plt.title('Progression Free Kaplan-Meier for ecDNA Positive/Negative')\n",
    "plt.xlabel(\"Time\")\n",
    "plt.legend()"
   ]
  },
  {
   "cell_type": "code",
   "execution_count": 16,
   "id": "6530b899-c327-4f77-9472-b863a808a60f",
   "metadata": {},
   "outputs": [
    {
     "name": "stdout",
     "output_type": "stream",
     "text": [
      "P-values for KM Curves\n"
     ]
    },
    {
     "data": {
      "text/html": [
       "<style type=\"text/css\">\n",
       "#T_2bf9e th {\n",
       "  border: 1px solid black;\n",
       "}\n",
       "#T_2bf9e td {\n",
       "  border: 1px solid black;\n",
       "}\n",
       "</style>\n",
       "<table id=\"T_2bf9e\">\n",
       "  <thead>\n",
       "    <tr>\n",
       "      <th class=\"blank level0\" >&nbsp;</th>\n",
       "      <th id=\"T_2bf9e_level0_col0\" class=\"col_heading level0 col0\" >ecDNA & Amp</th>\n",
       "      <th id=\"T_2bf9e_level0_col1\" class=\"col_heading level0 col1\" >No ecDNA & No Amp</th>\n",
       "    </tr>\n",
       "  </thead>\n",
       "  <tbody>\n",
       "    <tr>\n",
       "      <th id=\"T_2bf9e_level0_row0\" class=\"row_heading level0 row0\" >No ecDNA & Amp</th>\n",
       "      <td id=\"T_2bf9e_row0_col0\" class=\"data row0 col0\" >0.533966</td>\n",
       "      <td id=\"T_2bf9e_row0_col1\" class=\"data row0 col1\" >0.014730</td>\n",
       "    </tr>\n",
       "    <tr>\n",
       "      <th id=\"T_2bf9e_level0_row1\" class=\"row_heading level0 row1\" >ecDNA & Amp</th>\n",
       "      <td id=\"T_2bf9e_row1_col0\" class=\"data row1 col0\" ></td>\n",
       "      <td id=\"T_2bf9e_row1_col1\" class=\"data row1 col1\" >0.002375</td>\n",
       "    </tr>\n",
       "  </tbody>\n",
       "</table>\n"
      ],
      "text/plain": [
       "<pandas.io.formats.style.Styler at 0x7f8793330ce0>"
      ]
     },
     "execution_count": 16,
     "metadata": {},
     "output_type": "execute_result"
    }
   ],
   "source": [
    "from itertools import combinations\n",
    "from lifelines.statistics import logrank_test\n",
    "\n",
    "kmf = KaplanMeierFitter()\n",
    "kmf2 = KaplanMeierFitter()\n",
    "\n",
    "statuses = per_sample_for_km['combined'].unique()\n",
    "pairwise_tests = {}\n",
    "\n",
    "for group1, group2 in combinations(statuses, 2) :\n",
    "    group1_data = per_sample_for_km[per_sample_for_km['combined'] == group1]\n",
    "    group2_data = per_sample_for_km[per_sample_for_km['combined'] == group2]\n",
    "\n",
    "    # Fit KM curves\n",
    "    kmf.fit(group1_data['pfs'], event_observed=(group1_data['combined'] == 1))\n",
    "    kmf2.fit(group2_data['pfs'], event_observed=(group2_data['combined'] == 1))\n",
    "    \n",
    "    # Perform log-rank test\n",
    "    result = logrank_test(group1_data['pfs'], group2_data['pfs'], event_observed_A=(group1_data['progressedOrDead'] == True), event_observed_B=(group2_data['progressedOrDead'] == True))\n",
    "    \n",
    "    # Store p-value in dictionary\n",
    "    pairwise_tests[(group1, group2)] = result.p_value\n",
    "\n",
    "p_values_matrix = pd.DataFrame(index=statuses, columns=statuses)\n",
    "for (group1, group2), p_value in pairwise_tests.items():\n",
    "    if group1 != group2:\n",
    "        p_values_matrix.loc[group1, group2] = p_value\n",
    "p_values_matrix = p_values_matrix.fillna(\"\")\n",
    "\n",
    "print(\"P-values for KM Curves\")\n",
    "\n",
    "styled_matrix = p_values_matrix.iloc[:-1, 1:].style.set_table_styles([{\n",
    "    'selector': 'th',\n",
    "    'props': [('border', '1px solid black')]\n",
    "}, {\n",
    "    'selector': 'td',\n",
    "    'props': [('border', '1px solid black')]\n",
    "}])\n",
    "styled_matrix"
   ]
  }
 ],
 "metadata": {
  "kernelspec": {
   "display_name": "Python 3 (ipykernel)",
   "language": "python",
   "name": "python3"
  },
  "language_info": {
   "codemirror_mode": {
    "name": "ipython",
    "version": 3
   },
   "file_extension": ".py",
   "mimetype": "text/x-python",
   "name": "python",
   "nbconvert_exporter": "python",
   "pygments_lexer": "ipython3",
   "version": "3.12.0"
  }
 },
 "nbformat": 4,
 "nbformat_minor": 5
}
